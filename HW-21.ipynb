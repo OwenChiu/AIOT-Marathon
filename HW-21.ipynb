{
 "cells": [
  {
   "cell_type": "markdown",
   "metadata": {
    "id": "YXubSej__exT"
   },
   "source": [
    "# 作業 : echo_practice"
   ]
  },
  {
   "cell_type": "markdown",
   "metadata": {
    "id": "5pIkPDAH-n5I"
   },
   "source": [
    "## [作業目標]\n",
    "如何使用指令修改yolo的cfg檔\n",
    "## [作業重點]\n",
    "了解echo工具的參數與使用"
   ]
  },
  {
   "cell_type": "markdown",
   "metadata": {
    "id": "GoKgXP58AioN"
   },
   "source": [
    "### 作業1 : 請問YOLO訓練前，分別要對哪幾個檔案做設定?\n",
    "\n"
   ]
  },
  {
   "cell_type": "markdown",
   "metadata": {},
   "source": [
    "yolov3_training.cfg，obj.names和obj.data"
   ]
  },
  {
   "cell_type": "markdown",
   "metadata": {
    "id": "EwTYifhRAlmP"
   },
   "source": [
    "### 作業2 : 請問UNIX的文字取代工具sed在使用時，指定參數-i有什麼意義?\n"
   ]
  },
  {
   "cell_type": "markdown",
   "metadata": {},
   "source": [
    "修改內容且不顯示輸出"
   ]
  },
  {
   "cell_type": "markdown",
   "metadata": {
    "id": "ULVVYpgLAnY1"
   },
   "source": [
    "### 作業3 : 請問UNIX的文字編輯工具echo在使用時，指定參數-e有什麼意義?\n"
   ]
  },
  {
   "cell_type": "markdown",
   "metadata": {},
   "source": [
    "可以讓特定字元如\\n、\\r不輸出"
   ]
  },
  {
   "cell_type": "markdown",
   "metadata": {
    "id": "6B4GpYpyApaL"
   },
   "source": [
    "[連結文字](https://)### 作業4: 請在colab的儲存空間新建\"123.sh\"文件，透過echo指令往裡面寫入以下指令\n",
    "```\n",
    "touch bash.sh \n",
    "echo -e \"2021 is coming\" > bash.sh \n",
    "bash bash.sh\n",
    "```"
   ]
  },
  {
   "cell_type": "code",
   "execution_count": 1,
   "metadata": {},
   "outputs": [
    {
     "data": {
      "image/png": "[encoded data removed]",
      "text/plain": [
       "<IPython.core.display.Image object>"
      ]
     },
     "execution_count": 1,
     "metadata": {
      "image/png": {
       "height": 128,
       "width": 1580
      }
     },
     "output_type": "execute_result"
    }
   ],
   "source": [
    "from IPython.display import Image\n",
    "Image(filename=\"D21-01.png\", width=1580, height=128)"
   ]
  },
  {
   "cell_type": "code",
   "execution_count": null,
   "metadata": {},
   "outputs": [],
   "source": []
  }
 ],
 "metadata": {
  "colab": {
   "name": "echo_practice_作業.ipynb",
   "provenance": []
  },
  "kernelspec": {
   "display_name": "Python 3",
   "language": "python",
   "name": "python3"
  },
  "language_info": {
   "codemirror_mode": {
    "name": "ipython",
    "version": 3
   },
   "file_extension": ".py",
   "mimetype": "text/x-python",
   "name": "python",
   "nbconvert_exporter": "python",
   "pygments_lexer": "ipython3",
   "version": "3.8.2"
  }
 },
 "nbformat": 4,
 "nbformat_minor": 1
}
