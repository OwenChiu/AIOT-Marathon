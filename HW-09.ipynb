{
 "cells": [
  {
   "cell_type": "markdown",
   "metadata": {},
   "source": [
    "# 作業： 使用 Python 操作 MongoDB"
   ]
  },
  {
   "cell_type": "markdown",
   "metadata": {},
   "source": [
    "# [作業目標]\n",
    "* 能夠使用 Python 對 MongoDB 的資料進行增刪改查操作。\n",
    "* 使用 Robo 3T 工具查看資料。"
   ]
  },
  {
   "cell_type": "markdown",
   "metadata": {},
   "source": [
    "# [作業重點]\n",
    "* 執行程式前，MongoDB Server 記得要先開啟。\n",
    "* 若 DB、Collection 原本不存在，則直到有第一筆資料 insert 進去，才會真的建立 DB 及 Collection"
   ]
  },
  {
   "cell_type": "markdown",
   "metadata": {},
   "source": [
    "# 作業1\n",
    "* 建立 DB 及 Collection (名稱自訂)，使用 Python 取得連線。"
   ]
  },
  {
   "cell_type": "code",
   "execution_count": 1,
   "metadata": {},
   "outputs": [],
   "source": [
    "from pymongo import MongoClient"
   ]
  },
  {
   "cell_type": "code",
   "execution_count": 2,
   "metadata": {},
   "outputs": [],
   "source": [
    "#取得連線\n",
    "client = MongoClient(host='127.0.0.1', port=27017)"
   ]
  },
  {
   "cell_type": "code",
   "execution_count": 3,
   "metadata": {},
   "outputs": [],
   "source": [
    "#建立DB\n",
    "db = client['test']"
   ]
  },
  {
   "cell_type": "code",
   "execution_count": 4,
   "metadata": {},
   "outputs": [],
   "source": [
    "#建立collection\n",
    "collection = db['member']"
   ]
  },
  {
   "cell_type": "markdown",
   "metadata": {},
   "source": [
    "# 作業2\n",
    "* 使用 Python 操作 Mongo 中的資料。"
   ]
  },
  {
   "cell_type": "code",
   "execution_count": 5,
   "metadata": {},
   "outputs": [
    {
     "data": {
      "text/plain": [
       "<pymongo.results.InsertOneResult at 0x1640b657a40>"
      ]
     },
     "execution_count": 5,
     "metadata": {},
     "output_type": "execute_result"
    }
   ],
   "source": [
    "#新增單筆資料\n",
    "data_one = {'name': 'Kevin', 'phone': '0912345678', 'email': 'test@gmail.com'}\n",
    "collection.insert_one(data_one)"
   ]
  },
  {
   "cell_type": "code",
   "execution_count": 6,
   "metadata": {},
   "outputs": [
    {
     "data": {
      "text/plain": [
       "<pymongo.results.InsertManyResult at 0x1640ba7ae40>"
      ]
     },
     "execution_count": 6,
     "metadata": {},
     "output_type": "execute_result"
    }
   ],
   "source": [
    "#新增多筆資料\n",
    "data_many = [\n",
    "    {'name': 'Kitty', 'phone': '0987654321', 'email': 'kitty@gmail.com'},\n",
    "    {'name': 'Michael', 'phone': '0912345678', 'email': 'michael@gmail.com'},\n",
    "    {'name': 'Mike', 'phone': '0932105689', 'email': 'mike@gmail.com'},\n",
    "]\n",
    "collection.insert_many(data_many)"
   ]
  },
  {
   "cell_type": "code",
   "execution_count": 7,
   "metadata": {},
   "outputs": [
    {
     "data": {
      "text/plain": [
       "<pymongo.results.DeleteResult at 0x1640ba81a80>"
      ]
     },
     "execution_count": 7,
     "metadata": {},
     "output_type": "execute_result"
    }
   ],
   "source": [
    "#刪除單筆資料\n",
    "collection.delete_one({'name': 'Kitty'})"
   ]
  },
  {
   "cell_type": "code",
   "execution_count": 8,
   "metadata": {},
   "outputs": [
    {
     "data": {
      "text/plain": [
       "<pymongo.results.DeleteResult at 0x1640ba5b5c0>"
      ]
     },
     "execution_count": 8,
     "metadata": {},
     "output_type": "execute_result"
    }
   ],
   "source": [
    "#刪除多筆資料\n",
    "collection.delete_many({'name': 'Kitty'})"
   ]
  },
  {
   "cell_type": "code",
   "execution_count": 9,
   "metadata": {},
   "outputs": [
    {
     "data": {
      "text/plain": [
       "<pymongo.results.UpdateResult at 0x1640ba85ac0>"
      ]
     },
     "execution_count": 9,
     "metadata": {},
     "output_type": "execute_result"
    }
   ],
   "source": [
    "#修改單筆資料\n",
    "filter_ = {'name': 'Mike'}\n",
    "update_ = {\"$set\": {'name': 'Green'}}\n",
    "collection.update_one(filter_, update_)"
   ]
  },
  {
   "cell_type": "code",
   "execution_count": 10,
   "metadata": {},
   "outputs": [
    {
     "data": {
      "text/plain": [
       "<pymongo.results.UpdateResult at 0x1640ba85a40>"
      ]
     },
     "execution_count": 10,
     "metadata": {},
     "output_type": "execute_result"
    }
   ],
   "source": [
    "#修改多筆資料\n",
    "filter_ = {'name': 'Green'}\n",
    "update_ = {\"$set\": {'name': 'Mike'}}\n",
    "collection.update_many(filter_, update_)"
   ]
  },
  {
   "cell_type": "code",
   "execution_count": 11,
   "metadata": {},
   "outputs": [
    {
     "data": {
      "text/plain": [
       "{'_id': ObjectId('607e807509ff0794466ea756'),\n",
       " 'name': 'Kevin',\n",
       " 'phone': '0912345678',\n",
       " 'email': 'test@gmail.com'}"
      ]
     },
     "execution_count": 11,
     "metadata": {},
     "output_type": "execute_result"
    }
   ],
   "source": [
    "#查詢單筆資料\n",
    "collection.find_one({})"
   ]
  },
  {
   "cell_type": "code",
   "execution_count": 12,
   "metadata": {},
   "outputs": [
    {
     "name": "stdout",
     "output_type": "stream",
     "text": [
      "{'_id': ObjectId('607e807509ff0794466ea756'), 'name': 'Kevin', 'phone': '0912345678', 'email': 'test@gmail.com'}\n",
      "{'_id': ObjectId('607e807509ff0794466ea758'), 'name': 'Michael', 'phone': '0912345678', 'email': 'michael@gmail.com'}\n",
      "{'_id': ObjectId('607e807509ff0794466ea759'), 'name': 'Mike', 'phone': '0932105689', 'email': 'mike@gmail.com'}\n"
     ]
    }
   ],
   "source": [
    "#查詢所有資料\n",
    "result = collection.find()\n",
    "for x in result:\n",
    "    print(x)"
   ]
  },
  {
   "cell_type": "code",
   "execution_count": 13,
   "metadata": {},
   "outputs": [
    {
     "name": "stdout",
     "output_type": "stream",
     "text": [
      "{'_id': ObjectId('607e807509ff0794466ea759'), 'name': 'Mike', 'phone': '0932105689', 'email': 'mike@gmail.com'}\n",
      "{'_id': ObjectId('607e807509ff0794466ea756'), 'name': 'Kevin', 'phone': '0912345678', 'email': 'test@gmail.com'}\n",
      "{'_id': ObjectId('607e807509ff0794466ea758'), 'name': 'Michael', 'phone': '0912345678', 'email': 'michael@gmail.com'}\n"
     ]
    }
   ],
   "source": [
    "#查詢所有資料並排序\n",
    "result = collection.find().sort('phone', -1)\n",
    "for x in result:\n",
    "    print(x)"
   ]
  },
  {
   "cell_type": "code",
   "execution_count": 14,
   "metadata": {},
   "outputs": [
    {
     "name": "stdout",
     "output_type": "stream",
     "text": [
      "{'_id': ObjectId('607e807509ff0794466ea756'), 'name': 'Kevin', 'phone': '0912345678', 'email': 'test@gmail.com'}\n",
      "{'_id': ObjectId('607e807509ff0794466ea758'), 'name': 'Michael', 'phone': '0912345678', 'email': 'michael@gmail.com'}\n"
     ]
    }
   ],
   "source": [
    "#查詢所有資料並限制筆數\n",
    "result = collection.find().limit(2)\n",
    "for x in result:\n",
    "    print(x)"
   ]
  },
  {
   "cell_type": "code",
   "execution_count": null,
   "metadata": {},
   "outputs": [],
   "source": []
  }
 ],
 "metadata": {
  "kernelspec": {
   "display_name": "Python 3",
   "language": "python",
   "name": "python3"
  },
  "language_info": {
   "codemirror_mode": {
    "name": "ipython",
    "version": 3
   },
   "file_extension": ".py",
   "mimetype": "text/x-python",
   "name": "python",
   "nbconvert_exporter": "python",
   "pygments_lexer": "ipython3",
   "version": "3.8.8"
  }
 },
 "nbformat": 4,
 "nbformat_minor": 4
}
